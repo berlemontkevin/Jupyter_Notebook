{
 "cells": [
  {
   "cell_type": "markdown",
   "metadata": {},
   "source": [
    "# Simple sampling problem"
   ]
  },
  {
   "cell_type": "markdown",
   "metadata": {},
   "source": [
    "## Sampling discrete distributions"
   ]
  },
  {
   "cell_type": "markdown",
   "metadata": {},
   "source": [
    "First we need to generate a discrete distributions of $n_{item} = 5$ elements, each weights is generated from a random uniform distribution. We will add that this distribution will be normalized."
   ]
  },
  {
   "cell_type": "code",
   "execution_count": 1,
   "metadata": {
    "collapsed": false
   },
   "outputs": [
    {
     "name": "stdout",
     "output_type": "stream",
     "text": [
      "i   Prob(i)   \n",
      "0   0.3895127374151168\n",
      "1   0.2589629569341132\n",
      "2   0.17811303769720963\n",
      "3   0.0421764786661813\n",
      "4   0.13123478928737917\n"
     ]
    }
   ],
   "source": [
    "# Some useful package\n",
    "import random                    \n",
    "import numpy                     \n",
    "import math                       \n",
    "import time                      \n",
    "import operator                   \n",
    "import pylab    \n",
    "import matplotlib.pyplot as plt\n",
    "%matplotlib inline\n",
    "\n",
    "n_item = 5\n",
    "\n",
    "#First of all : generate the random distribution\n",
    "Normalization = 0\n",
    "Proba = []\n",
    "for i in range(n_item):\n",
    "    Proba.append(random.uniform(0,1))\n",
    "    Normalization=Normalization+Proba[i]\n",
    "\n",
    "# Now we normalize the distribution\n",
    "for i in range(n_item):\n",
    "    Proba[i]=Proba[i]/Normalization      \n",
    "\n",
    "#Some graphical informations\n",
    "print (\"i   Prob(i)   \")\n",
    "for i in range(n_item):\n",
    "    print (i, ' ',Proba[i])\n",
    "    "
   ]
  },
  {
   "cell_type": "markdown",
   "metadata": {},
   "source": [
    "Now that we have define our distribution, we can write the \"accept/reject\" procedure. The goal is to sample from the distribution."
   ]
  },
  {
   "cell_type": "code",
   "execution_count": 2,
   "metadata": {
    "collapsed": false
   },
   "outputs": [
    {
     "data": {
      "image/png": "[encoded data removed]",
      "text/plain": [
       "<matplotlib.figure.Figure at 0x28eb614d470>"
      ]
     },
     "metadata": {},
     "output_type": "display_data"
    }
   ],
   "source": [
    "def sample_AR(proba,valeu_max,N):\n",
    "    # N will be n_item\n",
    "    ok=False\n",
    "    xr=0\n",
    "    while ok==False :\n",
    "        # Definition of the several squares\n",
    "        x = random.uniform(0,N)\n",
    "        y = random.uniform(0,valeu_max)\n",
    "        xr = int(math.floor(x))\n",
    "        if Proba[xr]>y :\n",
    "            ok=True   \n",
    "    \n",
    "    return xr\n",
    "\n",
    "# Computing the max value with help of operator module\n",
    "index, valeur_max = max(enumerate(Proba), key=operator.itemgetter(1)) \n",
    "\n",
    "\n",
    "list_proba =[]\n",
    "for i in range(10000):\n",
    "    list_proba.append(sample_AR(Proba,valeur_max,n_item))\n",
    "       \n",
    "# Ploting the histogram and theoritical proportions\n",
    "x = [a for a in range(n_item)]\n",
    "y = [Proba[a] for a in range(n_item)]\n",
    "pylab.figure()\n",
    "pylab.hist(list_proba, bins=n_item, range=(-0.5, n_item-0.5), normed=True)\n",
    "pylab.plot(x, y,'ro', ms=10)\n",
    "pylab.title(\"Histogram (sampling) vs Distribution (dots)\")\n",
    "pylab.xlabel('$i$',fontsize=20)\n",
    "pylab.ylabel('$\\Proba(i)$',fontsize=20)\n",
    "pylab.show()"
   ]
  },
  {
   "cell_type": "markdown",
   "metadata": {},
   "source": [
    "We can note that the histogram fits very well the theoritical distributions. This can be a sort of proof that our AR procedure is working."
   ]
  },
  {
   "cell_type": "markdown",
   "metadata": {},
   "source": [
    "Now we want to implement another kind of procedure : the Tower Sampling. First of all we will need to compute : $P(x < i)$, the cumulative function."
   ]
  },
  {
   "cell_type": "code",
   "execution_count": 3,
   "metadata": {
    "collapsed": false
   },
   "outputs": [
    {
     "name": "stdout",
     "output_type": "stream",
     "text": [
      "i   Prob(i)               Prob<i\n",
      "0   0.3895127374151168   0.0\n",
      "1   0.2589629569341132   0.3895127374151168\n",
      "2   0.17811303769720963   0.64847569434923\n",
      "3   0.0421764786661813   0.8265887320464397\n",
      "4   0.13123478928737917   0.868765210712621\n"
     ]
    }
   ],
   "source": [
    "cumu = [0.0] \n",
    "for l in range(n_item):\n",
    "    cumu.append(cumu[l] + Proba[l])    \n",
    "    \n",
    "    \n",
    "#Some graphical illustrations\n",
    "\n",
    "print (\"i   Prob(i)               Prob<i\")\n",
    "for i in range(n_item):\n",
    "    print (i, ' ',Proba[i], ' ', cumu[i])"
   ]
  },
  {
   "cell_type": "markdown",
   "metadata": {},
   "source": [
    "Now we can code the TS procedure."
   ]
  },
  {
   "cell_type": "code",
   "execution_count": 4,
   "metadata": {
    "collapsed": false
   },
   "outputs": [
    {
     "data": {
      "image/png": "[encoded data removed]",
      "text/plain": [
       "<matplotlib.figure.Figure at 0x28eb8da1d68>"
      ]
     },
     "metadata": {},
     "output_type": "display_data"
    }
   ],
   "source": [
    "#Procedure in order to achieve the research of the corresponding i\n",
    "def research(x, cumulative):\n",
    "    kmin = 0\n",
    "    kmax = len(cumulative)\n",
    "    while True:\n",
    "        k = int((kmin + kmax) / 2)\n",
    "        if cumulative[k] < x:\n",
    "            kmin = k\n",
    "        elif cumulative[k - 1] > x:\n",
    "            kmax = k\n",
    "        else:\n",
    "            return k - 1\n",
    "        \n",
    "        \n",
    "        \n",
    "def sample_TS(cumulative):\n",
    "    x = random.random() \n",
    "    sample = research(x, cumulative)\n",
    "    return sample\n",
    "\n",
    "list_proba2 =[]\n",
    "for i in range(10000):\n",
    "    list_proba2.append(sample_TS(cumu))\n",
    "\n",
    "#Graphical stuff\n",
    "x = [a for a in range(n_item)]\n",
    "y = [Proba[a] for a in range(n_item)]\n",
    "pylab.figure()\n",
    "pylab.hist(list_proba2, bins=n_item, range=(-0.5, n_item-0.5), normed=True)\n",
    "pylab.plot(x, y,'ro', ms=10)\n",
    "pylab.title(\"Histogram (sampling) vs Distribution (dots)\")\n",
    "pylab.xlabel('$i$',fontsize=20)\n",
    "pylab.ylabel('$\\Proba(i)$',fontsize=20)\n",
    "pylab.show()"
   ]
  },
  {
   "cell_type": "markdown",
   "metadata": {},
   "source": [
    "Like with the AR procedure, the sampling seems to work fine. We want now to compute and compare the time used by the two procedures. "
   ]
  },
  {
   "cell_type": "code",
   "execution_count": 35,
   "metadata": {
    "collapsed": false
   },
   "outputs": [
    {
     "data": {
      "image/png": "[encoded data removed]",
      "text/plain": [
       "<matplotlib.figure.Figure at 0x28eb83159b0>"
      ]
     },
     "metadata": {},
     "output_type": "display_data"
    }
   ],
   "source": [
    "n_item = numpy.arange(1,500,5)\n",
    "time_ar = numpy.zeros(len(n_item))\n",
    "time_ts = numpy.zeros(len(n_item))\n",
    "\n",
    "\n",
    "for i,N in enumerate(n_item):\n",
    "    \n",
    "    Normalization = 0\n",
    "    Proba = []\n",
    "    for j in range(N):\n",
    "       Proba.append(random.uniform(0,1))\n",
    "       Normalization=Normalization+Proba[j]\n",
    "\n",
    "# Now we normalize the distribution\n",
    "    for j in range(N):\n",
    "       Proba[j]=Proba[j]/Normalization      \n",
    "    \n",
    "    \n",
    "    cumu = [0.0] \n",
    "    for l in range(N):\n",
    "        cumu.append(cumu[l] + Proba[l])   \n",
    "    \n",
    "    # Computing the max value with help of operator module\n",
    "    index, valeur_max = max(enumerate(Proba), key=operator.itemgetter(1)) \n",
    "    start = time.time()\n",
    "    list_proba =[]\n",
    "    for j in range(10000):\n",
    "        list_proba.append(sample_AR(Proba,valeur_max,N))\n",
    "    end = time.time()\n",
    "    time_ar[i] =(end - start)\n",
    "    \n",
    "    start = time.time()\n",
    "    list_proba =[]\n",
    "    for j in range(10000):\n",
    "        list_proba.append(sample_TS(cumu))\n",
    "    end = time.time()\n",
    "    time_ts[i] = (end - start)\n",
    "      \n",
    "\n",
    "plt.plot(n_item,time_ar,'bo',label='Time AR')\n",
    "plt.xlabel('$n_{item}$',fontsize=20)\n",
    "plt.ylabel('Time used',fontsize=20)\n",
    "plt.plot(n_item,time_ts,'r+',label='Time TS')\n",
    "plt.legend(loc=2)\n",
    "plt.title('Numerically estimate of the time used by the procedure')\n",
    "plt.show()\n",
    "    "
   ]
  },
  {
   "cell_type": "markdown",
   "metadata": {},
   "source": [
    "We can note that in the case of AR procedure, the time used seems to be a linear function of $n_{item}$. However for the TS procedure it seems to remain constant. For small values of $n_{item}$, the two procedures are equivalent but for large values it's clearly better to chosse the TS procedure. \n",
    "\n",
    "### Why do we have this difference ?\n",
    "\n",
    "If $n_{item}$ is increasing, the rejection area in the procedure AR is increasing too ( léger shcéma à mettre). That's why we have an increase of time needed. For the procedure TS, we don't have this rejection area, because the box shape a tower, thus there is no reason to have suche a strong increase with $n_{item}$."
   ]
  },
  {
   "cell_type": "markdown",
   "metadata": {},
   "source": [
    "The goal now is to observe the several behavior of $T_{used}$ for the AR procedure if we change the initial distribution."
   ]
  },
  {
   "cell_type": "code",
   "execution_count": null,
   "metadata": {
    "collapsed": true
   },
   "outputs": [],
   "source": [
    "# Ploting the histogram and theoritical proportions\n",
    "x = [a for a in range(n_item)]\n",
    "y = [Proba[a] for a in range(n_item)]\n",
    "pylab.figure()\n",
    "pylab.hist(list_proba, bins=n_item, range=(-0.5, n_item-0.5), normed=True)\n",
    "pylab.plot(x, y,'ro', ms=10)\n",
    "pylab.title(\"Histogram (sampling) vs Distribution (dots)\")\n",
    "pylab.xlabel('$i$',fontsize=20)\n",
    "pylab.ylabel('$\\Proba(i)$',fontsize=20)\n",
    "pylab.show()"
   ]
  },
  {
   "cell_type": "code",
   "execution_count": null,
   "metadata": {
    "collapsed": false
   },
   "outputs": [],
   "source": [
    "# Exponential distribution\n",
    "\n",
    "n_item = numpy.arange(1,2000,50)\n",
    "time_ar = numpy.zeros(len(n_item))\n",
    "time_ts = numpy.zeros(len(n_item))\n",
    "time_ar1= numpy.zeros(len(n_item))\n",
    "\n",
    "for i,N in enumerate(n_item):\n",
    "    \n",
    "    Normalization = 0\n",
    "    Proba = []\n",
    "    for j in range(N):\n",
    "       Proba.append(-numpy.log(random.uniform(0,1)))\n",
    "       Normalization=Normalization+Proba[j]\n",
    "\n",
    "# Now we normalize the distribution\n",
    "    for j in range(N):\n",
    "       Proba[j]=Proba[j]/Normalization      \n",
    "    \n",
    "    \n",
    "    cumu = [0.0] \n",
    "    for l in range(N):\n",
    "        cumu.append(cumu[l] + Proba[l])   \n",
    "    \n",
    "    # Computing the max value with help of operator module\n",
    "    index, valeur_max = max(enumerate(Proba), key=operator.itemgetter(1)) \n",
    "    start = time.time()\n",
    "    list_proba =[]\n",
    "    for j in range(10000):\n",
    "        list_proba.append(sample_AR(Proba,valeur_max,N))\n",
    "    end = time.time()\n",
    "    time_ar[i] =(end - start)\n",
    "    \n",
    "    start = time.time()\n",
    "    list_proba =[]\n",
    "    for j in range(10000):\n",
    "        list_proba.append(sample_TS(cumu))\n",
    "    end = time.time()\n",
    "    time_ts[i] = (end - start)\n",
    "      \n",
    "for i,N in enumerate(n_item):\n",
    "    \n",
    "    Normalization = 0\n",
    "    Proba2 = []\n",
    "    for j in range(N):\n",
    "       Proba2.append(random.uniform(0,1))\n",
    "       Normalization=Normalization+Proba[j]\n",
    "\n",
    "# Now we normalize the distribution\n",
    "    for j in range(N):\n",
    "       Proba2[j]=Proba[j]/Normalization      \n",
    "    \n",
    "    \n",
    "       \n",
    "    \n",
    "    start = time.time()\n",
    "    list_proba =[]\n",
    "    for j in range(10000):\n",
    "        list_proba.append(sample_AR(Proba2,valeur_max,N))\n",
    "    end = time.time()\n",
    "    time_ar1[i] =(end - start)\n",
    "    \n",
    "    \n",
    "    \n",
    "plt.plot(n_item,time_ar,'bo',label='Time AR')\n",
    "plt.plot(n_item,time_ar1,'go',label='Time AR')\n",
    "plt.xlabel('$n_{item}$',fontsize=20)\n",
    "plt.ylabel('Time used',fontsize=20)\n",
    "plt.plot(n_item,time_ts,'r+',label='Time TS')\n",
    "plt.legend(loc=2)\n",
    "plt.title('Numerically estimate of the time used by the procedure')\n",
    "plt.show()"
   ]
  },
  {
   "cell_type": "code",
   "execution_count": null,
   "metadata": {
    "collapsed": true
   },
   "outputs": [],
   "source": [
    "# Ploting the histogram and theoritical proportions\n",
    "x = [a for a in range(n_item)]\n",
    "y = [Proba[a] for a in range(n_item)]\n",
    "pylab.figure()\n",
    "pylab.hist(list_proba, bins=n_item, range=(-0.5, n_item-0.5), normed=True)\n",
    "pylab.plot(x, y,'ro', ms=10)\n",
    "pylab.title(\"Histogram (sampling) vs Distribution (dots)\")\n",
    "pylab.xlabel('$i$',fontsize=20)\n",
    "pylab.ylabel('$\\Proba(i)$',fontsize=20)\n",
    "pylab.show()"
   ]
  },
  {
   "cell_type": "code",
   "execution_count": 28,
   "metadata": {
    "collapsed": false
   },
   "outputs": [
    {
     "data": {
      "image/png": "[encoded data removed]",
      "text/plain": [
       "<matplotlib.figure.Figure at 0x28eba0dbda0>"
      ]
     },
     "metadata": {},
     "output_type": "display_data"
    }
   ],
   "source": [
    "# -1/2 distribution\n",
    "\n",
    "n_item = numpy.arange(1,100,5)\n",
    "time_ar = numpy.zeros(len(n_item))\n",
    "time_ts = numpy.zeros(len(n_item))\n",
    "time_ar1= numpy.zeros(len(n_item))\n",
    "\n",
    "for i,N in enumerate(n_item):\n",
    "    \n",
    "    Normalization = 0\n",
    "    Proba = []\n",
    "    for j in range(N):\n",
    "       Proba.append((random.uniform(0,1))**(-1/2))\n",
    "       Normalization=Normalization+Proba[j]\n",
    "\n",
    "# Now we normalize the distribution\n",
    "    for j in range(N):\n",
    "       Proba[j]=Proba[j]/Normalization      \n",
    "    \n",
    "    \n",
    "    cumu = [0.0] \n",
    "    for l in range(N):\n",
    "        cumu.append(cumu[l] + Proba[l])   \n",
    "    \n",
    "    \n",
    "    start = time.time()\n",
    "    list_proba =[]\n",
    "    for j in range(10000):\n",
    "        list_proba.append(sample_AR(Proba,valeur_max,N))\n",
    "    end = time.time()\n",
    "    time_ar[i] =(end - start)\n",
    "    \n",
    "    start = time.time()\n",
    "    list_proba =[]\n",
    "    for j in range(10000):\n",
    "        list_proba.append(sample_TS(cumu))\n",
    "    end = time.time()\n",
    "    time_ts[i] = (end - start)\n",
    "      \n",
    "for i,N in enumerate(n_item):\n",
    "    \n",
    "    Normalization = 0\n",
    "    Proba = []\n",
    "    for j in range(N):\n",
    "       Proba.append(random.uniform(0,1))\n",
    "       Normalization=Normalization+Proba[j]\n",
    "\n",
    "# Now we normalize the distribution\n",
    "    for j in range(N):\n",
    "       Proba[j]=Proba[j]/Normalization      \n",
    "    \n",
    "    \n",
    "    cumu = [0.0] \n",
    "    for l in range(N):\n",
    "        cumu.append(cumu[l] + Proba[l])   \n",
    "    \n",
    "    \n",
    "    start = time.time()\n",
    "    list_proba =[]\n",
    "    for j in range(10000):\n",
    "        list_proba.append(sample_AR(Proba,valeur_max,N))\n",
    "    end = time.time()\n",
    "    time_ar1[i] =(end - start)\n",
    "    \n",
    "    \n",
    "    \n",
    "plt.plot(n_item,time_ar,'bo',label='Time AR')\n",
    "plt.plot(n_item,time_ar1,'go',label='Time AR')\n",
    "plt.xlabel('$n_{item}$',fontsize=20)\n",
    "plt.ylabel('Time used',fontsize=20)\n",
    "plt.plot(n_item,time_ts,'r+',label='Time TS')\n",
    "plt.legend(loc=2)\n",
    "plt.title('Numerically estimate of the time used by the procedure')\n",
    "plt.show()"
   ]
  },
  {
   "cell_type": "code",
   "execution_count": null,
   "metadata": {
    "collapsed": true
   },
   "outputs": [],
   "source": []
  }
 ],
 "metadata": {
  "anaconda-cloud": {},
  "kernelspec": {
   "display_name": "Python [Root]",
   "language": "python",
   "name": "Python [Root]"
  },
  "language_info": {
   "codemirror_mode": {
    "name": "ipython",
    "version": 3
   },
   "file_extension": ".py",
   "mimetype": "text/x-python",
   "name": "python",
   "nbconvert_exporter": "python",
   "pygments_lexer": "ipython3",
   "version": "3.5.2"
  }
 },
 "nbformat": 4,
 "nbformat_minor": 0
}

{
 "cells": [
  {
   "cell_type": "markdown",
   "metadata": {},
   "source": [
    "# PyDSTool : An introduction"
   ]
  },
  {
   "cell_type": "markdown",
   "metadata": {},
   "source": [
    "This Notebook is inspired by : http://www2.gsu.edu/~matrhc/FrontPage.html\n",
    "\n",
    "The description of PyDSTool is :\"With PyDSTool we aim to provide a powerful suite of computational tools for the development, simulation, and analysis of dynamical systems that are used for the modeling of physical processes in many scientific disciplines. \""
   ]
  },
  {
   "cell_type": "markdown",
   "metadata": {},
   "source": [
    "## Basic Introduction"
   ]
  },
  {
   "cell_type": "markdown",
   "metadata": {},
   "source": [
    "Using this package there is one important thing to remember : the numerical solvers need to be presented with a system of first order differential equations.\n",
    "$$ \\frac{d y}{d t} = - \\frac{kx}{m} $$\n",
    "$$ \\frac{dx}{dt} = y$$\n",
    "\n",
    "The PyDStool solver will be analog to the one of Matlab in the way we interract with the system."
   ]
  },
  {
   "cell_type": "code",
   "execution_count": 1,
   "metadata": {
    "collapsed": true
   },
   "outputs": [],
   "source": [
    "from PyDSTool import *"
   ]
  },
  {
   "cell_type": "markdown",
   "metadata": {},
   "source": [
    "First we need to declare a name that we will use for the dictionnary containing initial conditions for two variables. In the same way we need to define a dictionary for all the parameters. This leads to the following code :\n"
   ]
  },
  {
   "cell_type": "code",
   "execution_count": 2,
   "metadata": {
    "collapsed": true
   },
   "outputs": [],
   "source": [
    "icdict = {'x': 1, 'y': 0.4}    # Initial conditions dictonnary\n",
    "pardict = {'k': 0.1, 'm': 0.5} # Parameters values dictionnary"
   ]
  },
  {
   "cell_type": "markdown",
   "metadata": {},
   "source": [
    "The next step is to define the vector field of the system. Or in other words the right-hand sides of the differential equation."
   ]
  },
  {
   "cell_type": "code",
   "execution_count": 3,
   "metadata": {
    "collapsed": true
   },
   "outputs": [],
   "source": [
    "x_rhs = 'y'\n",
    "y_rhs = '-k*x/m'"
   ]
  },
  {
   "cell_type": "markdown",
   "metadata": {},
   "source": [
    "Those two lines are particular. They assign strings to two names. The strings happen to use name that we have mentioned already and the name we assigned where only to remeber us which string belong to which variables. Now we need to tell which variables are dynamic, with the dynamic of the string that the variable maps to."
   ]
  },
  {
   "cell_type": "code",
   "execution_count": 4,
   "metadata": {
    "collapsed": true
   },
   "outputs": [],
   "source": [
    "vardict = {'x': x_rhs, 'y': y_rhs}"
   ]
  },
  {
   "cell_type": "markdown",
   "metadata": {},
   "source": [
    "Now we need to construct the full model for PyDSTool. To do this we will need to call the 'args' class of PyDSTool:"
   ]
  },
  {
   "cell_type": "code",
   "execution_count": 5,
   "metadata": {
    "collapsed": true
   },
   "outputs": [],
   "source": [
    "DSargs = args()                   # create an empty object instance of the args class, call it DSargs\n",
    "DSargs.name = 'SHM'               # name our model\n",
    "DSargs.ics = icdict               # assign the icdict to the ics attribute\n",
    "DSargs.pars = pardict             # assign the pardict to the pars attribute\n",
    "DSargs.tdata = [0, 20]            # declare how long we expect to integrate for\n",
    "DSargs.varspecs = vardict         # assign the vardict dictionary to the 'varspecs' attribute of DSargs"
   ]
  },
  {
   "cell_type": "markdown",
   "metadata": {},
   "source": [
    "All the details of this class can be found here : http://www.ni.gsu.edu/~rclewley/PyDSTool/UserDocumentation.html\n",
    "We can change all the values after, but we first to need to initialize in order to call the program. \n",
    "\n",
    "Now we need to convert all this specifications into a specific solver. All this kind of generators can be found :\n",
    "http://www.ni.gsu.edu/~rclewley/PyDSTool/Generators.html\n",
    "And the following code will be an example "
   ]
  },
  {
   "cell_type": "code",
   "execution_count": 6,
   "metadata": {
    "collapsed": true
   },
   "outputs": [],
   "source": [
    "DS = Generator.Vode_ODEsystem(DSargs)"
   ]
  },
  {
   "cell_type": "markdown",
   "metadata": {},
   "source": [
    "We can interact in many ways with DS objects. In order to show all the things we can do, we can use the function 'help'. "
   ]
  },
  {
   "cell_type": "code",
   "execution_count": 11,
   "metadata": {
    "collapsed": false
   },
   "outputs": [
    {
     "name": "stdout",
     "output_type": "stream",
     "text": [
      "Help on Vode_ODEsystem in module PyDSTool.Generator.Vode_ODEsystem object:\n",
      "\n",
      "class Vode_ODEsystem(PyDSTool.Generator.ODEsystem.ODEsystem)\n",
      " |  Wrapper for VODE, from SciPy.\n",
      " |  \n",
      " |  Uses Python target language only for functional specifications.\n",
      " |  \n",
      " |  Method resolution order:\n",
      " |      Vode_ODEsystem\n",
      " |      PyDSTool.Generator.ODEsystem.ODEsystem\n",
      " |      PyDSTool.Generator.baseclasses.ctsGen\n",
      " |      PyDSTool.Generator.baseclasses.Generator\n",
      " |      builtins.object\n",
      " |  \n",
      " |  Methods defined here:\n",
      " |  \n",
      " |  AuxVars(self, t, xdict, pdict=None, asarray=True)\n",
      " |      asarray is an unused, dummy argument for compatibility with\n",
      " |      Model.AuxVars\n",
      " |  \n",
      " |  Jacobian(self, t, xdict, pdict=None, asarray=True)\n",
      " |      asarray is an unused, dummy argument for compatibility with\n",
      " |      Model.Jacobian\n",
      " |  \n",
      " |  JacobianP(self, t, xdict, pdict=None, asarray=True)\n",
      " |      asarray is an unused, dummy argument for compatibility with\n",
      " |      Model.JacobianP\n",
      " |  \n",
      " |  Rhs(self, t, xdict, pdict=None, asarray=True)\n",
      " |      asarray is an unused, dummy argument for compatibility with Model.Rhs\n",
      " |  \n",
      " |  __del__(self)\n",
      " |  \n",
      " |  __init__(self, kw)\n",
      " |      Initialize self.  See help(type(self)) for accurate signature.\n",
      " |  \n",
      " |  addMethods(self)\n",
      " |      Add Python-specific functions to this object's methods,\n",
      " |      accelerating them with psyco, if it is available.\n",
      " |  \n",
      " |  compute(self, trajname, dirn='f', ics=None)\n",
      " |      This is an abstract class.\n",
      " |  \n",
      " |  ----------------------------------------------------------------------\n",
      " |  Methods inherited from PyDSTool.Generator.ODEsystem.ODEsystem:\n",
      " |  \n",
      " |  __getstate__(self)\n",
      " |      # Methods for pickling protocol\n",
      " |  \n",
      " |  __setstate__(self, state)\n",
      " |  \n",
      " |  checkInitialConditions(self, checkauxvars=False)\n",
      " |  \n",
      " |  cleanupMemory(self)\n",
      " |      Clean up memory usage from past runs of a solver that is interfaced through\n",
      " |      a dynamic link library. This will prevent the 'continue' integration option from\n",
      " |      being accessible and will delete other data about the last integration run.\n",
      " |  \n",
      " |  haveJacobian(self)\n",
      " |      Report whether ODE system has an explicit user-specified Jacobian\n",
      " |      associated with it.\n",
      " |  \n",
      " |  haveJacobian_pars(self)\n",
      " |      Report whether ODE system has an explicit user-specified Jacobian\n",
      " |      with respect to pars associated with it.\n",
      " |  \n",
      " |  haveMass(self)\n",
      " |      Report whether ODE system has an explicit user-specified mass matrix\n",
      " |      associated with it.\n",
      " |  \n",
      " |  prepDirection(self, dirn)\n",
      " |      Common pre-integration tasks go here\n",
      " |  \n",
      " |  set(self, **kw)\n",
      " |      Set ODE system parameters\n",
      " |  \n",
      " |  validateICs(self)\n",
      " |  \n",
      " |  ----------------------------------------------------------------------\n",
      " |  Methods inherited from PyDSTool.Generator.baseclasses.ctsGen:\n",
      " |  \n",
      " |  validateSpec(self)\n",
      " |  \n",
      " |  ----------------------------------------------------------------------\n",
      " |  Methods inherited from PyDSTool.Generator.baseclasses.Generator:\n",
      " |  \n",
      " |  __copy__(self)\n",
      " |  \n",
      " |  __deepcopy__(self, memo=None, _nil=[])\n",
      " |  \n",
      " |  __repr__(self)\n",
      " |      Return repr(self).\n",
      " |  \n",
      " |  __str__ = __repr__(self)\n",
      " |      Return repr(self).\n",
      " |  \n",
      " |  addEvtPars(self, eventPars)\n",
      " |      Register parameter names as event specific parameters.\n",
      " |  \n",
      " |  checkArgs(self, kw)\n",
      " |      # call this after all expected keywords have been processed\n",
      " |  \n",
      " |  contains(self, interval, val, checklevel=2)\n",
      " |      Interval containment test\n",
      " |  \n",
      " |  get(self, key)\n",
      " |      For API compatibility with ModelInterface: get will make a copy of\n",
      " |      the key and pass it through the inverse FuncSpec-compatible name map.\n",
      " |  \n",
      " |  getEventTimes(self, evnames=None, asGlobalTime=True)\n",
      " |      Produce dictionary of lists of all flagged events' independent\n",
      " |      variable values, for each event (whether terminal or not).\n",
      " |      Times will be globalized if optional asGlobalTime argument is True\n",
      " |      (default behavior). If a single event name is passed, only the pointset\n",
      " |      is returned (not a dictionary).\n",
      " |      \n",
      " |      evnames may be a singleton string or list of strings, or left blank to\n",
      " |      return data for all events.\n",
      " |      \n",
      " |      The events are guaranteed to be ordered by the value of the\n",
      " |      independent variable.\n",
      " |  \n",
      " |  getEvents(self, evnames=None, asGlobalTime=True)\n",
      " |      Produce dictionary of pointsets of all flagged events' independent\n",
      " |      and dependent variable values, for each event (whether terminal or not).\n",
      " |      Times will be globalized if optional asGlobalTime argument is True\n",
      " |      (default behavior). If a single event name is passed, only the pointset\n",
      " |      is returned (not a dictionary).\n",
      " |      \n",
      " |      evnames may be a singleton string or list of strings, or left blank to\n",
      " |      return data for all events.\n",
      " |      \n",
      " |      The events are not guaranteed to be ordered by the value of the\n",
      " |      independent variable.\n",
      " |  \n",
      " |  info(self, verbose=1)\n",
      " |  \n",
      " |  query(self, querykey='')\n",
      " |      Return info about Generator set-up.\n",
      " |      Valid query key: 'pars', 'parameters', 'pardomains', 'events',\n",
      " |       'ics', 'initialconditions', 'vars', 'variables',\n",
      " |       'auxvars', 'auxvariables', 'vardomains'\n",
      " |  \n",
      " |  resetEventTimes(self)\n",
      " |  \n",
      " |  resetEvents(self, state=None)\n",
      " |      Reset any high level (Python) events in Generator\n",
      " |  \n",
      " |  setEventICs(self, ics, gt0=0)\n",
      " |      Set initialconditions attribute of all generator's events, in\n",
      " |      case event uses auxiliary functions that access this information.\n",
      " |  \n",
      " |  showAuxFnSpec(self, auxfnname=None)\n",
      " |  \n",
      " |  showAuxSpec(self)\n",
      " |  \n",
      " |  showEventSpec(self)\n",
      " |  \n",
      " |  showSpec(self)\n",
      " |  \n",
      " |  ----------------------------------------------------------------------\n",
      " |  Data descriptors inherited from PyDSTool.Generator.baseclasses.Generator:\n",
      " |  \n",
      " |  __dict__\n",
      " |      dictionary for instance variables (if defined)\n",
      " |  \n",
      " |  __weakref__\n",
      " |      list of weak references to the object (if defined)\n",
      "\n"
     ]
    }
   ],
   "source": [
    "help(DS\n",
    "    )\n"
   ]
  },
  {
   "cell_type": "markdown",
   "metadata": {},
   "source": [
    "If we want to change the parameters of the ODE, we need to be careful and use the already written function. If we change it directly we could mess with the related values of other parameters."
   ]
  },
  {
   "cell_type": "code",
   "execution_count": 12,
   "metadata": {
    "collapsed": true
   },
   "outputs": [],
   "source": [
    "DS.set(pars={'k': 0.3},\n",
    "           ics={'x': 0.4})"
   ]
  },
  {
   "cell_type": "markdown",
   "metadata": {},
   "source": [
    "Now we can finally solve the system and obtain a trajectory http://www.ni.gsu.edu/~rclewley/PyDSTool/UserDocumentation.html#head-8bb69b45e39d4947ca78953b7fb61080c864d68a)."
   ]
  },
  {
   "cell_type": "code",
   "execution_count": 13,
   "metadata": {
    "collapsed": true
   },
   "outputs": [],
   "source": [
    "traj = DS.compute('demo')\n",
    "pts = traj.sample()"
   ]
  },
  {
   "cell_type": "code",
   "execution_count": 14,
   "metadata": {
    "collapsed": false
   },
   "outputs": [
    {
     "data": {
      "text/plain": [
       "<matplotlib.text.Text at 0x277ad176b38>"
      ]
     },
     "execution_count": 14,
     "metadata": {},
     "output_type": "execute_result"
    },
    {
     "data": {
      "image/png": "[encoded data removed]",
      "text/plain": [
       "<matplotlib.figure.Figure at 0x277ad1817f0>"
      ]
     },
     "metadata": {},
     "output_type": "display_data"
    }
   ],
   "source": [
    "%matplotlib inline\n",
    "plt.plot(pts['t'], pts['x'], label='x')\n",
    "plt.plot(pts['t'], pts['y'], label='y')\n",
    "plt.legend()\n",
    "plt.xlabel('t')"
   ]
  },
  {
   "cell_type": "markdown",
   "metadata": {},
   "source": [
    "Just to finish this part, we will see how to run scripts on a DS object it order to measure quantities from the simulation."
   ]
  },
  {
   "cell_type": "code",
   "execution_count": 16,
   "metadata": {
    "collapsed": false
   },
   "outputs": [
    {
     "name": "stdout",
     "output_type": "stream",
     "text": [
      "[ 0.064  0.064  0.064 ...,  0.064  0.064  0.064]\n"
     ]
    },
    {
     "data": {
      "text/plain": [
       "0.0010671506776360137"
      ]
     },
     "execution_count": 16,
     "metadata": {},
     "output_type": "execute_result"
    }
   ],
   "source": [
    "def KE(pts):\n",
    "    return 0.5*DS.pars['m']*pts['y']**2\n",
    "\n",
    "def PE(pts):\n",
    "    return 0.5*DS.pars['k']*pts['x']**2\n",
    "\n",
    "total_energy = KE(pts) + PE(pts)\n",
    "\n",
    "print (total_energy)\n",
    "\n",
    "KE(traj(5.4)) # At time 5.4"
   ]
  },
  {
   "cell_type": "markdown",
   "metadata": {},
   "source": [
    "This code highlights the utility of the 'trajectory' object. We can use this object as a parametric function. Indeed it interpolates between independent variables automatically. In our example $5.4$ was not in the 'time set'."
   ]
  },
  {
   "cell_type": "code",
   "execution_count": 17,
   "metadata": {
    "collapsed": false
   },
   "outputs": [
    {
     "data": {
      "text/plain": [
       "(539, 540)"
      ]
     },
     "execution_count": 17,
     "metadata": {},
     "output_type": "execute_result"
    }
   ],
   "source": [
    "pts.find(5.4)"
   ]
  },
  {
   "cell_type": "markdown",
   "metadata": {},
   "source": [
    "## A bit further : Calcium Channel model"
   ]
  },
  {
   "cell_type": "markdown",
   "metadata": {},
   "source": [
    "The examples can be found : https://github.com/robclewley/pydstool/tree/master/examples\n",
    "\n",
    "In this part we will begin to work on bifurcation diagramm for a simple nonlinear model :\n",
    "$$ C \\frac{dV}{dt} = I + g_L (V_L - V) +g_{Ca} m(V) (V_{Ca}-V)$$\n",
    "where $m(V) = 0.5(1 + \\tanh[(V-V_1)/V_2])$\n",
    "\n",
    "The initialization is as follows :"
   ]
  },
  {
   "cell_type": "code",
   "execution_count": 18,
   "metadata": {
    "collapsed": true
   },
   "outputs": [],
   "source": [
    "import PyDSTool as dst # Give a name to the package\n",
    "import numpy as np\n",
    "from matplotlib import pyplot as plt\n",
    "\n",
    "# we must give a name\n",
    "DSargs = dst.args(name='Calcium channel model')\n",
    "# parameters\n",
    "DSargs.pars = { 'vl': -60,\n",
    "               'vca': 120,\n",
    "                 'i': 0,\n",
    "                'gl': 2,\n",
    "               'gca': 4,\n",
    "                 'c': 20,\n",
    "                'v1': -1.2,\n",
    "                'v2': 18  }\n",
    "# auxiliary helper function(s) -- function name: ([func signature], definition)\n",
    "DSargs.fnspecs  = {'minf': (['v'], '0.5 * (1 + tanh( (v-v1)/v2 ))') }\n",
    "# rhs of the differential equation, including dummy variable w\n",
    "DSargs.varspecs = {'v': '( i + gl * (vl - v) - gca * minf(v) * (v-vca) )/c',\n",
    "                   'w': 'v-w' }\n",
    "# initial conditions\n",
    "DSargs.ics      = {'v': 0, 'w': 0 }"
   ]
  },
  {
   "cell_type": "markdown",
   "metadata": {},
   "source": [
    "Like before we use a Generator in order to find the solution of the dynamical system. We can just note that $w$ in the code is jsut a dummy variable necessary to this version of PyDSTool (need two variables)."
   ]
  },
  {
   "cell_type": "code",
   "execution_count": 19,
   "metadata": {
    "collapsed": false
   },
   "outputs": [
    {
     "data": {
      "image/png": "[encoded data removed]",
      "text/plain": [
       "<matplotlib.figure.Figure at 0x277ad535978>"
      ]
     },
     "metadata": {},
     "output_type": "display_data"
    }
   ],
   "source": [
    "DSargs.tdomain = [0,30]                         # set the range of integration.\n",
    "ode  = dst.Generator.Vode_ODEsystem(DSargs)     # an instance of the 'Generator' class.\n",
    "traj = ode.compute('polarization')              # integrate ODE with trajectory name : polarization / use print (traj.info(1)) to obtian the info\n",
    "pts  = traj.sample(dt=0.1)                      # Data for plotting\n",
    "\n",
    "# PyPlot commands\n",
    "plt.plot(pts['t'], pts['v'])\n",
    "plt.xlabel('time')                              # Axes labels\n",
    "plt.ylabel('voltage')                           # ...\n",
    "plt.ylim([0,65])                                # Range of the y axis\n",
    "plt.title(ode.name)                             # Figure title from model name\n",
    "plt.show()\n"
   ]
  },
  {
   "cell_type": "markdown",
   "metadata": {},
   "source": [
    "The equation we used is bistable. One way to highlight this is with the following code :\n"
   ]
  },
  {
   "cell_type": "code",
   "execution_count": 26,
   "metadata": {
    "collapsed": false
   },
   "outputs": [
    {
     "data": {
      "image/png": "[encoded data removed]",
      "text/plain": [
       "<matplotlib.figure.Figure at 0x277ad625c50>"
      ]
     },
     "metadata": {},
     "output_type": "display_data"
    }
   ],
   "source": [
    "plt.clf()                                       # Clear the figure\n",
    "\n",
    "for i, v0 in enumerate(np.linspace(-80,80,20)):\n",
    "    ode.set( ics = { 'v': v0 } )                # Initial condition\n",
    "    # Trajectories are called pol0, pol1, ...\n",
    "    # sample them on the fly to create Pointset tmp\n",
    "    tmp = ode.compute('pol%3i' % i).sample()    # or specify dt option to sample to sub-sample\n",
    "    plt.plot(tmp['t'], tmp['v'])\n",
    "plt.xlabel('time')\n",
    "plt.ylabel('voltage')\n",
    "plt.title(ode.name + ' multi ICs')\n",
    "plt.show()"
   ]
  },
  {
   "cell_type": "markdown",
   "metadata": {},
   "source": [
    "We will now be interested in the bifurcation diagram and the nonlinear study, that are the main point of this package.\n",
    "\n",
    "To do so we need to work with a ContClass (http://www2.gsu.edu/~matrhc/PyCont.html). It allows tools for numerical continuation for solutions to initial value problems and level curves of nonlinear function. It also detects bifurcation points. To obtain all the specifities check the link.\n"
   ]
  },
  {
   "cell_type": "code",
   "execution_count": 27,
   "metadata": {
    "collapsed": true
   },
   "outputs": [],
   "source": [
    "\n",
    "# Prepare the system to start close to a steady state\n",
    "ode.set(pars = {'i': -220} )       # Lower bound of the control parameter 'i'\n",
    "ode.set(ics =  {'v': -170} )       # Close to one of the steady states present for i=-220\n",
    "\n",
    "PC = dst.ContClass(ode)            # Set up continuation class\n",
    "\n",
    "PCargs = dst.args(name='EQ1', type='EP-C')     # 'EP-C' stands for Equilibrium Point Curve. The branch will be labeled 'EQ1'.\n",
    "PCargs.freepars     = ['i']                    # control parameter(s) (it should be among those specified in DSargs.pars)\n",
    "PCargs.MaxNumPoints = 450                      # The following 3 parameters are set after trial-and-error\n",
    "PCargs.MaxStepSize  = 2\n",
    "PCargs.MinStepSize  = 1e-5\n",
    "PCargs.StepSize     = 2e-2\n",
    "PCargs.LocBifPoints = 'LP'                     # detect limit points / saddle-node bifurcations\n",
    "PCargs.SaveEigen    = True                     # to tell unstable from stable branches"
   ]
  },
  {
   "cell_type": "markdown",
   "metadata": {},
   "source": [
    "The 'LocBifPoints' attributes tells PyCont what type of bifurcation should be tracked. In this example, because we now the result we specify that only saddle-node bifurcation should be detected. We can then compute this diagram :"
   ]
  },
  {
   "cell_type": "code",
   "execution_count": 28,
   "metadata": {
    "collapsed": false
   },
   "outputs": [
    {
     "name": "stdout",
     "output_type": "stream",
     "text": [
      "LP Point found \n",
      "LP Point found \n"
     ]
    },
    {
     "data": {
      "image/png": "[encoded data removed]",
      "text/plain": [
       "<matplotlib.figure.Figure at 0x277ad1a7668>"
      ]
     },
     "metadata": {},
     "output_type": "display_data"
    }
   ],
   "source": [
    "PC.newCurve(PCargs)\n",
    "PC['EQ1'].forward()                                    # Forward because we look for t>0\n",
    "PC.display(['i','v'], stability=True, figure=3)        # stable and unstable branches as solid and dashed curves, resp."
   ]
  },
  {
   "cell_type": "markdown",
   "metadata": {},
   "source": [
    "PC['EQ1'] now consists of a \"struct\" data type that specifies the particular equilibrium curve we prepared the system for. The information of the equilibrium curve can be accessed via the 'info()' method. We can obtain detailed information about a particular special point calling the 'getSpecialPoint' method."
   ]
  },
  {
   "cell_type": "markdown",
   "metadata": {},
   "source": [
    "If we want to know the location of the limit points as we vary the calcium condutance : "
   ]
  },
  {
   "cell_type": "code",
   "execution_count": 29,
   "metadata": {
    "collapsed": false
   },
   "outputs": [
    {
     "name": "stdout",
     "output_type": "stream",
     "text": [
      "CP Point found \n"
     ]
    },
    {
     "data": {
      "image/png": "[encoded data removed]",
      "text/plain": [
       "<matplotlib.figure.Figure at 0x277ad80b908>"
      ]
     },
     "metadata": {},
     "output_type": "display_data"
    }
   ],
   "source": [
    "PCargs = dst.args(name='SN1', type='LP-C')\n",
    "PCargs.initpoint    = 'EQ1:LP2'\n",
    "PCargs.freepars     = ['i', 'gca']\n",
    "PCargs.MaxStepSize  = 2\n",
    "PCargs.LocBifPoints = ['CP']\n",
    "PCargs.MaxNumPoints = 200\n",
    "PC.newCurve(PCargs)\n",
    "PC['SN1'].forward()\n",
    "PC['SN1'].backward()\n",
    "PC['SN1'].display(['i','gca'], figure=4)"
   ]
  }
 ],
 "metadata": {
  "kernelspec": {
   "display_name": "Python 3",
   "language": "python",
   "name": "python3"
  },
  "language_info": {
   "codemirror_mode": {
    "name": "ipython",
    "version": 3
   },
   "file_extension": ".py",
   "mimetype": "text/x-python",
   "name": "python",
   "nbconvert_exporter": "python",
   "pygments_lexer": "ipython3",
   "version": "3.6.0"
  }
 },
 "nbformat": 4,
 "nbformat_minor": 2
}

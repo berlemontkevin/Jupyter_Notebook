{
 "cells": [
  {
   "cell_type": "code",
   "execution_count": 1,
   "metadata": {
    "collapsed": false
   },
   "outputs": [],
   "source": [
    "from pylab import rand,plot,show,norm\n",
    "\n",
    "def generateData(n):\n",
    " \"\"\" \n",
    "  generates a 2D linearly separable dataset with n samples. \n",
    "  The third element of the sample is the label\n",
    " \"\"\"\n",
    " xb = (rand(n)*2-1)/2-0.5\n",
    " yb = (rand(n)*2-1)/2+0.5\n",
    " xr = (rand(n)*2-1)/2+0.5\n",
    " yr = (rand(n)*2-1)/2-0.5\n",
    " inputs = []\n",
    " for i in range(len(xb)):\n",
    "  inputs.append([xb[i],yb[i],1])\n",
    "  inputs.append([xr[i],yr[i],-1])\n",
    " return inputs"
   ]
  },
  {
   "cell_type": "code",
   "execution_count": 2,
   "metadata": {
    "collapsed": false
   },
   "outputs": [],
   "source": [
    "\n",
    "class Perceptron:\n",
    " def __init__(self):\n",
    "  \"\"\" perceptron initialization \"\"\"\n",
    "  self.w = rand(2)*2-1 # weights\n",
    "  self.learningRate = 1\n",
    "\n",
    " def response(self,x):\n",
    "  \"\"\" perceptron output, only in 2-D \"\"\"\n",
    "  y = x[0]*self.w[0]+x[1]*self.w[1] # dot product between w and x\n",
    "  if y >= 0:\n",
    "   return 1\n",
    "  else:\n",
    "   return -1\n",
    "\n",
    " def updateWeights(self,x,iterError):\n",
    "  \"\"\"\n",
    "   updates the weights status, w at time t+1 is\n",
    "       w(t+1) = w(t) + learningRate*(d-r)*x\n",
    "   where d is desired output and r the perceptron response\n",
    "   iterError is (d-r)\n",
    "  \"\"\"\n",
    "  self.w[0] += self.learningRate*iterError*x[0]\n",
    "  self.w[1] += self.learningRate*iterError*x[1]\n",
    "\n",
    " def train(self,data):\n",
    "  \"\"\" \n",
    "   trains all the vector in data.\n",
    "   Every vector in data must have three elements,\n",
    "   the third element (x[2]) must be the label (desired output)\n",
    "  \"\"\"\n",
    "  learned = False\n",
    "  iteration = 0\n",
    "  while not learned:\n",
    "   globalError = 0.0\n",
    "   for x in data: # for each sample\n",
    "    r = self.response(x)    \n",
    "    if x[2] != r: # if we have a wrong response\n",
    "     iterError = x[2] - r # desired response - actual response\n",
    "     self.updateWeights(x,iterError)\n",
    "     globalError += abs(iterError)\n",
    "   iteration += 1\n",
    "   if globalError == 0.0 or iteration >= 100: # stop criteria\n",
    "    print ('iterations',iteration)\n",
    "    learned = True # stop learning"
   ]
  },
  {
   "cell_type": "code",
   "execution_count": 3,
   "metadata": {
    "collapsed": false
   },
   "outputs": [
    {
     "name": "stdout",
     "output_type": "stream",
     "text": [
      "('iterations', 2)\n"
     ]
    },
    {
     "data": {
      "image/png": "[encoded data removed]",
      "text/plain": [
       "<matplotlib.figure.Figure at 0x7f3782c90f50>"
      ]
     },
     "metadata": {},
     "output_type": "display_data"
    }
   ],
   "source": [
    "%matplotlib inline\n",
    "\n",
    "trainset = generateData(100) # train set generation\n",
    "perceptron = Perceptron()   # perceptron instance\n",
    "perceptron.train(trainset)  # training\n",
    "testset = generateData(50)  # test set generation\n",
    "\n",
    "# Perceptron test\n",
    "for x in testset:\n",
    " r = perceptron.response(x)\n",
    " if r != x[2]: # if the response is not correct\n",
    "  print ('error')\n",
    " if r == 1:\n",
    "  plot(x[0],x[1],'ob')  \n",
    " else:\n",
    "  plot(x[0],x[1],'or')\n",
    "\n",
    "# plot of the separation line.\n",
    "# The separation line is orthogonal to w\n",
    "n = norm(perceptron.w)\n",
    "ww = perceptron.w/n\n",
    "ww1 = [ww[1],-ww[0]]\n",
    "ww2 = [-ww[1],ww[0]]\n",
    "plot([ww1[0], ww2[0]],[ww1[1], ww2[1]],'--k')\n",
    "show()"
   ]
  },
  {
   "cell_type": "markdown",
   "metadata": {},
   "source": [
    "### N-D Perceptron"
   ]
  },
  {
   "cell_type": "code",
   "execution_count": 34,
   "metadata": {
    "collapsed": true
   },
   "outputs": [],
   "source": [
    "class Perceptron():\n",
    "    def __init__(self, N, M, nepoch=100, learning_rate=0.1):\n",
    "        self._N = N # dimension\n",
    "        self._M = M # numbe example\n",
    "        self.nepoch = nepoch # number of epochs\n",
    "        self.learning_rate = learning_rate # learing rate of the algo\n",
    "        self._global_err = list() # lsit of error\n",
    "        self._proba = 0 # proba to fail or suceed\n",
    "\n",
    "    def global_err(self):\n",
    "        return self._global_err\n",
    "    \n",
    "\n",
    "    def proba(self):\n",
    "        return self._proba\n",
    "    \n",
    "\n",
    "    def training(self,data):\n",
    "        ## Data\n",
    "        x_,y_,w_ = data\n",
    "\n",
    "        # Learning\n",
    "        for epoch in range(self.nepoch):\n",
    "            err  = 0\n",
    "            out_ = F(w_, x_)\n",
    "            for i_batch in range(self._M):\n",
    "                yi = y_[i_batch]\n",
    "                if yi * out_[i_batch] < 0:\n",
    "                    dw_ = yi * x_[i_batch]\n",
    "                    w_ += self.learning_rate * dw_\n",
    "                    err += 1\n",
    "            self.global_err.append(err / self._M)\n",
    "            if err == 0:\n",
    "                self._proba += 1\n",
    "                break"
   ]
  },
  {
   "cell_type": "code",
   "execution_count": 46,
   "metadata": {
    "collapsed": true
   },
   "outputs": [],
   "source": [
    "def generateData(M,N) :\n",
    "    x_ = np.random.randn(M, N)\n",
    "    x_ = np.concatenate((np.ones((M, 1)), x_), axis=1)\n",
    "    y_  = 2 * np.random.randint(low=0, high=2, size=M) - 1\n",
    "    w_  = np.random.uniform(low=-1, high=1, size=N + 1)\n",
    "    return x_,y_,w_\n",
    "\n",
    "def F(w_, x_):\n",
    "    \"\"\"Fonction de décision\"\"\"\n",
    "    return np.sign(np.sum(w_ * x_, axis=1))"
   ]
  },
  {
   "cell_type": "code",
   "execution_count": 37,
   "metadata": {
    "collapsed": false
   },
   "outputs": [],
   "source": [
    "import numpy as np\n",
    "N = 100\n",
    "alpha_max = 3.0\n",
    "alpha_min = 1.5\n",
    "nstep = 30\n",
    "step = (alpha_max - alpha_min) / nstep\n",
    "alpha = np.arange(alpha_min, alpha_max + step, step)\n",
    "seed = 42\n",
    "nepoch = 1000\n",
    "learning_rate = 0.1"
   ]
  },
  {
   "cell_type": "code",
   "execution_count": 48,
   "metadata": {
    "collapsed": false
   },
   "outputs": [
    {
     "name": "stdout",
     "output_type": "stream",
     "text": [
      "Current alpha = 1.5\n",
      "Current alpha = 1.55\n",
      "Current alpha = 1.6\n",
      "Current alpha = 1.65\n",
      "Current alpha = 1.7\n",
      "Current alpha = 1.75\n",
      "Current alpha = 1.8\n",
      "Current alpha = 1.85\n",
      "Current alpha = 1.9\n",
      "Current alpha = 1.95\n",
      "Current alpha = 2.0\n",
      "Current alpha = 2.05\n",
      "Current alpha = 2.1\n"
     ]
    }
   ],
   "source": [
    "global_proba = list()\n",
    "for a in alpha:\n",
    "    print('Current alpha =', a)\n",
    "    nperceptron = 30\n",
    "    perceptrons = list()\n",
    "    for iperceptron in range(nperceptron):\n",
    "        M = int(a * N)\n",
    "        perceptrons.append(Perceptron(N, M, nepoch=nepoch, learning_rate=learning_rate) )\n",
    "        \n",
    "\n",
    "    for p in perceptrons:\n",
    "        p.training(generateData(M,N))\n",
    "    \n",
    "\n",
    "    proba = list()\n",
    "    for p in perceptrons:\n",
    "        proba.append(p.proba)\n",
    "\n",
    "    current_proba = np.sum(proba) / nperceptron\n",
    "    global_proba.append(current_proba)\n",
    "    # print('with probability:', current_proba)\n",
    "    if current_proba == 0:\n",
    "        break"
   ]
  },
  {
   "cell_type": "code",
   "execution_count": 50,
   "metadata": {
    "collapsed": false
   },
   "outputs": [
    {
     "data": {
      "image/png": "[encoded data removed]",
      "text/plain": [
       "<matplotlib.figure.Figure at 0x1ec72320048>"
      ]
     },
     "metadata": {},
     "output_type": "display_data"
    }
   ],
   "source": [
    "import pylab\n",
    "if len(alpha) != len(global_proba):\n",
    "    alpha = alpha[:len(global_proba)]\n",
    "pylab.figure(figsize=(10,8))\n",
    "pylab.plot(alpha, global_proba)\n",
    "pylab.xlabel(r'\\alpha', fontsize=16)\n",
    "pylab.ylabel('taux de réussite de l\\'apprentissage', fontsize=16)\n",
    "pylab.title('Transition de phase', fontsize=20)\n",
    "pylab.show()"
   ]
  },
  {
   "cell_type": "code",
   "execution_count": null,
   "metadata": {
    "collapsed": true
   },
   "outputs": [],
   "source": []
  },
  {
   "cell_type": "code",
   "execution_count": null,
   "metadata": {
    "collapsed": true
   },
   "outputs": [],
   "source": []
  },
  {
   "cell_type": "code",
   "execution_count": null,
   "metadata": {
    "collapsed": true
   },
   "outputs": [],
   "source": []
  },
  {
   "cell_type": "code",
   "execution_count": null,
   "metadata": {
    "collapsed": true
   },
   "outputs": [],
   "source": []
  },
  {
   "cell_type": "code",
   "execution_count": null,
   "metadata": {
    "collapsed": true
   },
   "outputs": [],
   "source": []
  }
 ],
 "metadata": {
  "anaconda-cloud": {},
  "kernelspec": {
   "display_name": "Python 2",
   "language": "python",
   "name": "python2"
  },
  "language_info": {
   "codemirror_mode": {
    "name": "ipython",
    "version": 2
   },
   "file_extension": ".py",
   "mimetype": "text/x-python",
   "name": "python",
   "nbconvert_exporter": "python",
   "pygments_lexer": "ipython2",
   "version": "2.7.6"
  }
 },
 "nbformat": 4,
 "nbformat_minor": 0
}
